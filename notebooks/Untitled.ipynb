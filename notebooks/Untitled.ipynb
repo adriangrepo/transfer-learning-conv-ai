{
 "cells": [
  {
   "cell_type": "code",
   "execution_count": 3,
   "metadata": {
    "ExecuteTime": {
     "end_time": "2019-07-09T07:53:51.533059Z",
     "start_time": "2019-07-09T07:53:51.528719Z"
    }
   },
   "outputs": [],
   "source": [
    "import argparse\n",
    "import collections\n",
    "import copy\n",
    "import itertools\n",
    "import logging\n",
    "import os\n",
    "import pickle\n",
    "from pathlib import Path\n",
    "from psaw import PushshiftAPI\n",
    "from tqdm import tqdm"
   ]
  },
  {
   "cell_type": "code",
   "execution_count": 4,
   "metadata": {
    "ExecuteTime": {
     "end_time": "2019-07-09T07:53:53.764710Z",
     "start_time": "2019-07-09T07:53:51.766331Z"
    }
   },
   "outputs": [],
   "source": [
    "api = PushshiftAPI()"
   ]
  },
  {
   "cell_type": "code",
   "execution_count": 50,
   "metadata": {
    "ExecuteTime": {
     "end_time": "2019-07-09T08:21:10.914926Z",
     "start_time": "2019-07-09T08:21:10.909235Z"
    }
   },
   "outputs": [],
   "source": [
    "subreddit = 'singularity'\n",
    "submissions = api.search_submissions(subreddit=subreddit, num_comments=\">100\", max_items_returned=10, sort_type=\"num_comments\")"
   ]
  },
  {
   "cell_type": "code",
   "execution_count": 51,
   "metadata": {
    "ExecuteTime": {
     "end_time": "2019-07-09T08:21:25.231385Z",
     "start_time": "2019-07-09T08:21:11.080372Z"
    }
   },
   "outputs": [
    {
     "name": "stderr",
     "output_type": "stream",
     "text": [
      "\n",
      "0it [00:00, ?it/s]\u001b[A\n",
      "1it [00:03,  3.05s/it]\u001b[A\n",
      "64it [00:05,  2.15s/it]\u001b[A\n",
      "103it [00:08,  1.52s/it]\u001b[A\n",
      "137it [00:10,  1.08s/it]\u001b[A\n",
      "143it [00:12,  1.17it/s]\u001b[A"
     ]
    },
    {
     "data": {
      "text/plain": [
       "143"
      ]
     },
     "execution_count": 51,
     "metadata": {},
     "output_type": "execute_result"
    }
   ],
   "source": [
    "submissions = list(tqdm(submissions))\n",
    "len(submissions)"
   ]
  },
  {
   "cell_type": "code",
   "execution_count": 52,
   "metadata": {
    "ExecuteTime": {
     "end_time": "2019-07-09T08:21:25.238900Z",
     "start_time": "2019-07-09T08:21:25.234416Z"
    }
   },
   "outputs": [
    {
     "data": {
      "text/plain": [
       "143"
      ]
     },
     "execution_count": 52,
     "metadata": {},
     "output_type": "execute_result"
    }
   ],
   "source": [
    "len(submissions)"
   ]
  },
  {
   "cell_type": "code",
   "execution_count": 55,
   "metadata": {
    "ExecuteTime": {
     "end_time": "2019-07-09T08:21:36.660419Z",
     "start_time": "2019-07-09T08:21:36.647204Z"
    }
   },
   "outputs": [
    {
     "data": {
      "text/plain": [
       "[295,\n",
       " 215,\n",
       " 194,\n",
       " 191,\n",
       " 180,\n",
       " 176,\n",
       " 175,\n",
       " 174,\n",
       " 167,\n",
       " 158,\n",
       " 155,\n",
       " 155,\n",
       " 151,\n",
       " 148,\n",
       " 147,\n",
       " 142,\n",
       " 141,\n",
       " 141,\n",
       " 140,\n",
       " 135,\n",
       " 134,\n",
       " 132,\n",
       " 132,\n",
       " 131,\n",
       " 131,\n",
       " 127,\n",
       " 125,\n",
       " 125,\n",
       " 123,\n",
       " 122,\n",
       " 121,\n",
       " 120,\n",
       " 119,\n",
       " 119,\n",
       " 119,\n",
       " 117,\n",
       " 116,\n",
       " 115,\n",
       " 113,\n",
       " 112,\n",
       " 112,\n",
       " 111,\n",
       " 111,\n",
       " 110,\n",
       " 110,\n",
       " 109,\n",
       " 109,\n",
       " 109,\n",
       " 109,\n",
       " 109,\n",
       " 107,\n",
       " 107,\n",
       " 107,\n",
       " 106,\n",
       " 105,\n",
       " 105,\n",
       " 103,\n",
       " 103,\n",
       " 102,\n",
       " 102,\n",
       " 102,\n",
       " 102,\n",
       " 101,\n",
       " 295,\n",
       " 215,\n",
       " 191,\n",
       " 180,\n",
       " 175,\n",
       " 174,\n",
       " 167,\n",
       " 158,\n",
       " 155,\n",
       " 151,\n",
       " 142,\n",
       " 141,\n",
       " 140,\n",
       " 135,\n",
       " 134,\n",
       " 132,\n",
       " 132,\n",
       " 131,\n",
       " 125,\n",
       " 120,\n",
       " 119,\n",
       " 119,\n",
       " 119,\n",
       " 116,\n",
       " 115,\n",
       " 113,\n",
       " 112,\n",
       " 110,\n",
       " 109,\n",
       " 107,\n",
       " 107,\n",
       " 107,\n",
       " 105,\n",
       " 105,\n",
       " 103,\n",
       " 102,\n",
       " 102,\n",
       " 102,\n",
       " 102,\n",
       " 295,\n",
       " 215,\n",
       " 191,\n",
       " 180,\n",
       " 175,\n",
       " 174,\n",
       " 167,\n",
       " 158,\n",
       " 155,\n",
       " 151,\n",
       " 142,\n",
       " 141,\n",
       " 135,\n",
       " 134,\n",
       " 132,\n",
       " 131,\n",
       " 125,\n",
       " 120,\n",
       " 119,\n",
       " 119,\n",
       " 119,\n",
       " 116,\n",
       " 115,\n",
       " 113,\n",
       " 112,\n",
       " 110,\n",
       " 109,\n",
       " 107,\n",
       " 107,\n",
       " 107,\n",
       " 105,\n",
       " 103,\n",
       " 102,\n",
       " 102,\n",
       " 295,\n",
       " 180,\n",
       " 141,\n",
       " 119,\n",
       " 116,\n",
       " 102,\n",
       " 119]"
      ]
     },
     "execution_count": 55,
     "metadata": {},
     "output_type": "execute_result"
    }
   ],
   "source": []
  },
  {
   "cell_type": "code",
   "execution_count": 36,
   "metadata": {
    "ExecuteTime": {
     "end_time": "2019-07-09T08:13:14.303030Z",
     "start_time": "2019-07-09T08:13:10.153554Z"
    }
   },
   "outputs": [
    {
     "ename": "TypeError",
     "evalue": "tuple indices must be integers or slices, not str",
     "output_type": "error",
     "traceback": [
      "\u001b[0;31m---------------------------------------------------------------------------\u001b[0m",
      "\u001b[0;31mTypeError\u001b[0m                                 Traceback (most recent call last)",
      "\u001b[0;32m<ipython-input-36-56d5d37556b5>\u001b[0m in \u001b[0;36m<module>\u001b[0;34m\u001b[0m\n\u001b[1;32m      1\u001b[0m \u001b[0msubmissions_aggs\u001b[0m \u001b[0;34m=\u001b[0m \u001b[0mapi\u001b[0m\u001b[0;34m.\u001b[0m\u001b[0msearch_submissions\u001b[0m\u001b[0;34m(\u001b[0m\u001b[0msubreddit\u001b[0m\u001b[0;34m=\u001b[0m\u001b[0msubreddit\u001b[0m\u001b[0;34m,\u001b[0m \u001b[0mnum_comments\u001b[0m\u001b[0;34m=\u001b[0m\u001b[0;34m\">10\"\u001b[0m\u001b[0;34m,\u001b[0m \u001b[0mmax_items_returned\u001b[0m\u001b[0;34m=\u001b[0m\u001b[0;36m10\u001b[0m\u001b[0;34m,\u001b[0m \u001b[0maggs\u001b[0m\u001b[0;34m=\u001b[0m\u001b[0;34m'date'\u001b[0m\u001b[0;34m)\u001b[0m\u001b[0;34m\u001b[0m\u001b[0;34m\u001b[0m\u001b[0m\n\u001b[1;32m      2\u001b[0m \u001b[0msubmissions_agg\u001b[0m \u001b[0;34m=\u001b[0m\u001b[0mnext\u001b[0m\u001b[0;34m(\u001b[0m\u001b[0msubmissions_aggs\u001b[0m\u001b[0;34m)\u001b[0m\u001b[0;34m\u001b[0m\u001b[0;34m\u001b[0m\u001b[0m\n\u001b[0;32m----> 3\u001b[0;31m \u001b[0mmax_results\u001b[0m \u001b[0;34m=\u001b[0m \u001b[0msubmissions_agg\u001b[0m\u001b[0;34m[\u001b[0m\u001b[0;34m'subreddit'\u001b[0m\u001b[0;34m]\u001b[0m\u001b[0;34m[\u001b[0m\u001b[0;36m0\u001b[0m\u001b[0;34m]\u001b[0m\u001b[0;34m[\u001b[0m\u001b[0;34m'doc_count'\u001b[0m\u001b[0;34m]\u001b[0m\u001b[0;34m\u001b[0m\u001b[0;34m\u001b[0m\u001b[0m\n\u001b[0m\u001b[1;32m      4\u001b[0m \u001b[0mmax_results\u001b[0m\u001b[0;34m\u001b[0m\u001b[0;34m\u001b[0m\u001b[0m\n",
      "\u001b[0;31mTypeError\u001b[0m: tuple indices must be integers or slices, not str"
     ]
    }
   ],
   "source": [
    "submissions_aggs = api.search_submissions(subreddit=subreddit, num_comments=\">10\", max_items_returned=10, aggs='subreddit')\n",
    "submissions_agg =next(submissions_aggs)\n",
    "max_results = submissions_agg['subreddit'][0]['doc_count']\n",
    "max_results"
   ]
  },
  {
   "cell_type": "code",
   "execution_count": 47,
   "metadata": {
    "ExecuteTime": {
     "end_time": "2019-07-09T08:19:06.622498Z",
     "start_time": "2019-07-09T08:19:06.568138Z"
    }
   },
   "outputs": [],
   "source": [
    "import pandas as pd\n",
    "import random\n",
    "random.shuffle?"
   ]
  },
  {
   "cell_type": "code",
   "execution_count": 46,
   "metadata": {
    "ExecuteTime": {
     "end_time": "2019-07-09T08:15:13.545840Z",
     "start_time": "2019-07-09T08:15:13.527954Z"
    }
   },
   "outputs": [
    {
     "data": {
      "text/plain": [
       "[(Timestamp('2017-01-31 00:00:00', freq='M'),\n",
       "  Timestamp('2017-02-28 00:00:00', freq='M')),\n",
       " (Timestamp('2017-02-28 00:00:00', freq='M'),\n",
       "  Timestamp('2017-03-31 00:00:00', freq='M')),\n",
       " (Timestamp('2017-03-31 00:00:00', freq='M'),\n",
       "  Timestamp('2017-04-30 00:00:00', freq='M')),\n",
       " (Timestamp('2017-04-30 00:00:00', freq='M'),\n",
       "  Timestamp('2017-05-31 00:00:00', freq='M')),\n",
       " (Timestamp('2017-05-31 00:00:00', freq='M'),\n",
       "  Timestamp('2017-06-30 00:00:00', freq='M')),\n",
       " (Timestamp('2017-06-30 00:00:00', freq='M'),\n",
       "  Timestamp('2017-07-31 00:00:00', freq='M')),\n",
       " (Timestamp('2017-07-31 00:00:00', freq='M'),\n",
       "  Timestamp('2017-08-31 00:00:00', freq='M')),\n",
       " (Timestamp('2017-08-31 00:00:00', freq='M'),\n",
       "  Timestamp('2017-09-30 00:00:00', freq='M')),\n",
       " (Timestamp('2017-09-30 00:00:00', freq='M'),\n",
       "  Timestamp('2017-10-31 00:00:00', freq='M')),\n",
       " (Timestamp('2017-10-31 00:00:00', freq='M'),\n",
       "  Timestamp('2017-11-30 00:00:00', freq='M')),\n",
       " (Timestamp('2017-11-30 00:00:00', freq='M'),\n",
       "  Timestamp('2017-12-31 00:00:00', freq='M')),\n",
       " (Timestamp('2017-12-31 00:00:00', freq='M'),\n",
       "  Timestamp('2018-01-31 00:00:00', freq='M')),\n",
       " (Timestamp('2018-01-31 00:00:00', freq='M'),\n",
       "  Timestamp('2018-02-28 00:00:00', freq='M')),\n",
       " (Timestamp('2018-02-28 00:00:00', freq='M'),\n",
       "  Timestamp('2018-03-31 00:00:00', freq='M')),\n",
       " (Timestamp('2018-03-31 00:00:00', freq='M'),\n",
       "  Timestamp('2018-04-30 00:00:00', freq='M')),\n",
       " (Timestamp('2018-04-30 00:00:00', freq='M'),\n",
       "  Timestamp('2018-05-31 00:00:00', freq='M')),\n",
       " (Timestamp('2018-05-31 00:00:00', freq='M'),\n",
       "  Timestamp('2018-06-30 00:00:00', freq='M')),\n",
       " (Timestamp('2018-06-30 00:00:00', freq='M'),\n",
       "  Timestamp('2018-07-31 00:00:00', freq='M')),\n",
       " (Timestamp('2018-07-31 00:00:00', freq='M'),\n",
       "  Timestamp('2018-08-31 00:00:00', freq='M')),\n",
       " (Timestamp('2018-08-31 00:00:00', freq='M'),\n",
       "  Timestamp('2018-09-30 00:00:00', freq='M')),\n",
       " (Timestamp('2018-09-30 00:00:00', freq='M'),\n",
       "  Timestamp('2018-10-31 00:00:00', freq='M')),\n",
       " (Timestamp('2018-10-31 00:00:00', freq='M'),\n",
       "  Timestamp('2018-11-30 00:00:00', freq='M')),\n",
       " (Timestamp('2018-11-30 00:00:00', freq='M'),\n",
       "  Timestamp('2018-12-31 00:00:00', freq='M'))]"
      ]
     },
     "execution_count": 46,
     "metadata": {},
     "output_type": "execute_result"
    }
   ],
   "source": [
    "dates = pd.date_range('2017', '2019', freq='M')\n",
    "list(zip(dates[:-1], dates[1:]))"
   ]
  },
  {
   "cell_type": "code",
   "execution_count": null,
   "metadata": {
    "ExecuteTime": {
     "end_time": "2019-07-09T08:13:34.034805Z",
     "start_time": "2019-07-09T08:13:34.021730Z"
    }
   },
   "outputs": [],
   "source": []
  },
  {
   "cell_type": "code",
   "execution_count": null,
   "metadata": {},
   "outputs": [],
   "source": []
  }
 ],
 "metadata": {
  "kernelspec": {
   "display_name": "jup3.7.2",
   "language": "python",
   "name": "jup3.7.2"
  },
  "language_info": {
   "codemirror_mode": {
    "name": "ipython",
    "version": 3
   },
   "file_extension": ".py",
   "mimetype": "text/x-python",
   "name": "python",
   "nbconvert_exporter": "python",
   "pygments_lexer": "ipython3",
   "version": "3.7.2"
  },
  "toc": {
   "base_numbering": 1,
   "nav_menu": {},
   "number_sections": true,
   "sideBar": false,
   "skip_h1_title": false,
   "title_cell": "Table of Contents",
   "title_sidebar": "Contents",
   "toc_cell": false,
   "toc_position": {},
   "toc_section_display": true,
   "toc_window_display": true
  }
 },
 "nbformat": 4,
 "nbformat_minor": 2
}
